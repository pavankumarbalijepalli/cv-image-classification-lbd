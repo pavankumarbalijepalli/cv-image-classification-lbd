{
 "cells": [
  {
   "cell_type": "markdown",
   "id": "a125ea68-688a-4b9e-933f-186855287466",
   "metadata": {},
   "source": [
    "__CRISP DM__\n",
    "* [x] Business Understanding\n",
    "* [x] Data Import and Understanding\n",
    "* [x] Data Preparation\n",
    "* [ ] Modelling\n",
    "* [ ] Evaluation\n",
    "* [ ] Deployment"
   ]
  },
  {
   "cell_type": "markdown",
   "id": "260e1d02-afd3-4b0d-a4bd-31009a8ccc96",
   "metadata": {},
   "source": [
    "## Data Import and Understanding"
   ]
  },
  {
   "cell_type": "code",
   "execution_count": 1,
   "id": "10676f0e-7813-4c4c-857a-590842ddb87e",
   "metadata": {},
   "outputs": [],
   "source": [
    "import numpy as np\n",
    "import pandas as pd\n",
    "import seaborn as sns\n",
    "import matplotlib.pyplot as plt"
   ]
  },
  {
   "cell_type": "code",
   "execution_count": 2,
   "id": "90540194-0f16-4210-9664-9dee28f3d855",
   "metadata": {},
   "outputs": [
    {
     "data": {
      "text/plain": [
       "((60000, 785), (10000, 785))"
      ]
     },
     "execution_count": 2,
     "metadata": {},
     "output_type": "execute_result"
    }
   ],
   "source": [
    "train = pd.read_csv('./datasets/fashion-mnist/fashion-mnist_train.csv')\n",
    "test = pd.read_csv('./datasets/fashion-mnist/fashion-mnist_test.csv')\n",
    "\n",
    "train.shape, test.shape"
   ]
  },
  {
   "cell_type": "code",
   "execution_count": 3,
   "id": "52935357-76fa-4ea8-87eb-e7e6e30c8a60",
   "metadata": {},
   "outputs": [
    {
     "data": {
      "text/plain": [
       "((60000, 784), (60000,), (10000, 784), (10000,))"
      ]
     },
     "execution_count": 3,
     "metadata": {},
     "output_type": "execute_result"
    }
   ],
   "source": [
    "x_train = train.drop('label', axis=1)\n",
    "y_train = train['label']\n",
    "x_test = test.drop('label', axis=1)\n",
    "y_test = test['label']\n",
    "\n",
    "x_train.shape, y_train.shape, x_test.shape, y_test.shape"
   ]
  },
  {
   "cell_type": "code",
   "execution_count": 4,
   "id": "7446dacc-ad3b-4d01-968c-90062574fc3f",
   "metadata": {},
   "outputs": [
    {
     "data": {
      "text/plain": [
       "{0: 'T-shirt/top',\n",
       " 1: 'Trouser',\n",
       " 2: 'Pullover',\n",
       " 3: 'Dress',\n",
       " 4: 'Coat',\n",
       " 5: 'Sandal',\n",
       " 6: 'Shirt',\n",
       " 7: 'Sneaker',\n",
       " 8: 'Bag',\n",
       " 9: 'Ankle boot'}"
      ]
     },
     "execution_count": 4,
     "metadata": {},
     "output_type": "execute_result"
    }
   ],
   "source": [
    "label_to_class = {0: 'T-shirt/top', 1: 'Trouser', 2: 'Pullover', 3: 'Dress', 4: 'Coat', 5: 'Sandal', 6: 'Shirt', 7: 'Sneaker', 8: 'Bag', 9: 'Ankle boot',}\n",
    "label_to_class"
   ]
  },
  {
   "cell_type": "code",
   "execution_count": 5,
   "id": "3f756cf2-86f3-4845-b933-31e29e9e4d9d",
   "metadata": {},
   "outputs": [
    {
     "name": "stderr",
     "output_type": "stream",
     "text": [
      "C:\\Users\\balijepallikumar\\Anaconda3\\lib\\site-packages\\seaborn\\_decorators.py:36: FutureWarning: Pass the following variable as a keyword arg: x. From version 0.12, the only valid positional argument will be `data`, and passing other arguments without an explicit keyword will result in an error or misinterpretation.\n",
      "  warnings.warn(\n"
     ]
    },
    {
     "data": {
      "text/plain": [
       "<AxesSubplot:xlabel='label', ylabel='count'>"
      ]
     },
     "execution_count": 5,
     "metadata": {},
     "output_type": "execute_result"
    },
    {
     "data": {
      "image/png": "[encoded data removed]",
      "text/plain": [
       "<Figure size 640x480 with 1 Axes>"
      ]
     },
     "metadata": {},
     "output_type": "display_data"
    }
   ],
   "source": [
    "sns.countplot(y_train.replace(label_to_class))"
   ]
  },
  {
   "cell_type": "code",
   "execution_count": 6,
   "id": "13320947-1224-4b24-8300-a877dda3bb3d",
   "metadata": {},
   "outputs": [
    {
     "name": "stdout",
     "output_type": "stream",
     "text": [
      "<class 'pandas.core.frame.DataFrame'>\n",
      "RangeIndex: 60000 entries, 0 to 59999\n",
      "Columns: 784 entries, pixel1 to pixel784\n",
      "dtypes: int64(784)\n",
      "memory usage: 358.9 MB\n"
     ]
    }
   ],
   "source": [
    "x_train.info()"
   ]
  },
  {
   "cell_type": "code",
   "execution_count": 7,
   "id": "8df402ee-0c3c-4b30-b27c-1906cbd68c86",
   "metadata": {},
   "outputs": [
    {
     "data": {
      "text/html": [
       "<div>\n",
       "<style scoped>\n",
       "    .dataframe tbody tr th:only-of-type {\n",
       "        vertical-align: middle;\n",
       "    }\n",
       "\n",
       "    .dataframe tbody tr th {\n",
       "        vertical-align: top;\n",
       "    }\n",
       "\n",
       "    .dataframe thead th {\n",
       "        text-align: right;\n",
       "    }\n",
       "</style>\n",
       "<table border=\"1\" class=\"dataframe\">\n",
       "  <thead>\n",
       "    <tr style=\"text-align: right;\">\n",
       "      <th></th>\n",
       "      <th>pixel1</th>\n",
       "      <th>pixel2</th>\n",
       "      <th>pixel3</th>\n",
       "      <th>pixel4</th>\n",
       "      <th>pixel5</th>\n",
       "      <th>pixel6</th>\n",
       "      <th>pixel7</th>\n",
       "      <th>pixel8</th>\n",
       "      <th>pixel9</th>\n",
       "      <th>pixel10</th>\n",
       "      <th>...</th>\n",
       "      <th>pixel775</th>\n",
       "      <th>pixel776</th>\n",
       "      <th>pixel777</th>\n",
       "      <th>pixel778</th>\n",
       "      <th>pixel779</th>\n",
       "      <th>pixel780</th>\n",
       "      <th>pixel781</th>\n",
       "      <th>pixel782</th>\n",
       "      <th>pixel783</th>\n",
       "      <th>pixel784</th>\n",
       "    </tr>\n",
       "  </thead>\n",
       "  <tbody>\n",
       "    <tr>\n",
       "      <th>0</th>\n",
       "      <td>0</td>\n",
       "      <td>0</td>\n",
       "      <td>0</td>\n",
       "      <td>0</td>\n",
       "      <td>0</td>\n",
       "      <td>0</td>\n",
       "      <td>0</td>\n",
       "      <td>0</td>\n",
       "      <td>0</td>\n",
       "      <td>0</td>\n",
       "      <td>...</td>\n",
       "      <td>0</td>\n",
       "      <td>0</td>\n",
       "      <td>0</td>\n",
       "      <td>0</td>\n",
       "      <td>0</td>\n",
       "      <td>0</td>\n",
       "      <td>0</td>\n",
       "      <td>0</td>\n",
       "      <td>0</td>\n",
       "      <td>0</td>\n",
       "    </tr>\n",
       "    <tr>\n",
       "      <th>1</th>\n",
       "      <td>0</td>\n",
       "      <td>0</td>\n",
       "      <td>0</td>\n",
       "      <td>0</td>\n",
       "      <td>0</td>\n",
       "      <td>0</td>\n",
       "      <td>0</td>\n",
       "      <td>0</td>\n",
       "      <td>0</td>\n",
       "      <td>0</td>\n",
       "      <td>...</td>\n",
       "      <td>0</td>\n",
       "      <td>0</td>\n",
       "      <td>0</td>\n",
       "      <td>0</td>\n",
       "      <td>0</td>\n",
       "      <td>0</td>\n",
       "      <td>0</td>\n",
       "      <td>0</td>\n",
       "      <td>0</td>\n",
       "      <td>0</td>\n",
       "    </tr>\n",
       "    <tr>\n",
       "      <th>2</th>\n",
       "      <td>0</td>\n",
       "      <td>0</td>\n",
       "      <td>0</td>\n",
       "      <td>0</td>\n",
       "      <td>0</td>\n",
       "      <td>0</td>\n",
       "      <td>0</td>\n",
       "      <td>5</td>\n",
       "      <td>0</td>\n",
       "      <td>0</td>\n",
       "      <td>...</td>\n",
       "      <td>0</td>\n",
       "      <td>0</td>\n",
       "      <td>0</td>\n",
       "      <td>30</td>\n",
       "      <td>43</td>\n",
       "      <td>0</td>\n",
       "      <td>0</td>\n",
       "      <td>0</td>\n",
       "      <td>0</td>\n",
       "      <td>0</td>\n",
       "    </tr>\n",
       "    <tr>\n",
       "      <th>3</th>\n",
       "      <td>0</td>\n",
       "      <td>0</td>\n",
       "      <td>0</td>\n",
       "      <td>1</td>\n",
       "      <td>2</td>\n",
       "      <td>0</td>\n",
       "      <td>0</td>\n",
       "      <td>0</td>\n",
       "      <td>0</td>\n",
       "      <td>0</td>\n",
       "      <td>...</td>\n",
       "      <td>3</td>\n",
       "      <td>0</td>\n",
       "      <td>0</td>\n",
       "      <td>0</td>\n",
       "      <td>0</td>\n",
       "      <td>1</td>\n",
       "      <td>0</td>\n",
       "      <td>0</td>\n",
       "      <td>0</td>\n",
       "      <td>0</td>\n",
       "    </tr>\n",
       "    <tr>\n",
       "      <th>4</th>\n",
       "      <td>0</td>\n",
       "      <td>0</td>\n",
       "      <td>0</td>\n",
       "      <td>0</td>\n",
       "      <td>0</td>\n",
       "      <td>0</td>\n",
       "      <td>0</td>\n",
       "      <td>0</td>\n",
       "      <td>0</td>\n",
       "      <td>0</td>\n",
       "      <td>...</td>\n",
       "      <td>0</td>\n",
       "      <td>0</td>\n",
       "      <td>0</td>\n",
       "      <td>0</td>\n",
       "      <td>0</td>\n",
       "      <td>0</td>\n",
       "      <td>0</td>\n",
       "      <td>0</td>\n",
       "      <td>0</td>\n",
       "      <td>0</td>\n",
       "    </tr>\n",
       "  </tbody>\n",
       "</table>\n",
       "<p>5 rows × 784 columns</p>\n",
       "</div>"
      ],
      "text/plain": [
       "   pixel1  pixel2  pixel3  pixel4  pixel5  pixel6  pixel7  pixel8  pixel9  \\\n",
       "0       0       0       0       0       0       0       0       0       0   \n",
       "1       0       0       0       0       0       0       0       0       0   \n",
       "2       0       0       0       0       0       0       0       5       0   \n",
       "3       0       0       0       1       2       0       0       0       0   \n",
       "4       0       0       0       0       0       0       0       0       0   \n",
       "\n",
       "   pixel10  ...  pixel775  pixel776  pixel777  pixel778  pixel779  pixel780  \\\n",
       "0        0  ...         0         0         0         0         0         0   \n",
       "1        0  ...         0         0         0         0         0         0   \n",
       "2        0  ...         0         0         0        30        43         0   \n",
       "3        0  ...         3         0         0         0         0         1   \n",
       "4        0  ...         0         0         0         0         0         0   \n",
       "\n",
       "   pixel781  pixel782  pixel783  pixel784  \n",
       "0         0         0         0         0  \n",
       "1         0         0         0         0  \n",
       "2         0         0         0         0  \n",
       "3         0         0         0         0  \n",
       "4         0         0         0         0  \n",
       "\n",
       "[5 rows x 784 columns]"
      ]
     },
     "execution_count": 7,
     "metadata": {},
     "output_type": "execute_result"
    }
   ],
   "source": [
    "x_train.head()"
   ]
  },
  {
   "cell_type": "markdown",
   "id": "d281cd05-c9a5-4ed0-8e04-b9ed71998ddb",
   "metadata": {},
   "source": [
    "## Data Preparation"
   ]
  },
  {
   "cell_type": "code",
   "execution_count": 8,
   "id": "38768f7e-70ea-4768-afec-7bb408ab7a8b",
   "metadata": {},
   "outputs": [
    {
     "data": {
      "text/plain": [
       "((60000, 28, 28), (60000,), (10000, 28, 28), (10000,))"
      ]
     },
     "execution_count": 8,
     "metadata": {},
     "output_type": "execute_result"
    }
   ],
   "source": [
    "x_train = np.array(x_train).reshape(60000, 28, 28).copy()\n",
    "x_test = np.array(x_test).reshape(10000, 28, 28).copy()\n",
    "\n",
    "x_train.shape, y_train.shape, x_test.shape, y_test.shape"
   ]
  },
  {
   "cell_type": "code",
   "execution_count": 9,
   "id": "3428c3a7-b3c6-43b6-a576-a24d7824248d",
   "metadata": {},
   "outputs": [],
   "source": [
    "side = x_train.shape[1]\n",
    "n_classes = len(y_train.unique())"
   ]
  },
  {
   "cell_type": "code",
   "execution_count": 10,
   "id": "405d7ff9-bdd0-40f6-a63f-da7d8ddf75a7",
   "metadata": {},
   "outputs": [
    {
     "data": {
      "image/png": "[encoded data removed]",
      "text/plain": [
       "<Figure size 200x200 with 1 Axes>"
      ]
     },
     "metadata": {},
     "output_type": "display_data"
    },
    {
     "data": {
      "image/png": "[encoded data removed]",
      "text/plain": [
       "<Figure size 200x200 with 1 Axes>"
      ]
     },
     "metadata": {},
     "output_type": "display_data"
    },
    {
     "data": {
      "image/png": "[encoded data removed]",
      "text/plain": [
       "<Figure size 200x200 with 1 Axes>"
      ]
     },
     "metadata": {},
     "output_type": "display_data"
    },
    {
     "data": {
      "image/png": "[encoded data removed]",
      "text/plain": [
       "<Figure size 200x200 with 1 Axes>"
      ]
     },
     "metadata": {},
     "output_type": "display_data"
    },
    {
     "data": {
      "image/png": "[encoded data removed]",
      "text/plain": [
       "<Figure size 200x200 with 1 Axes>"
      ]
     },
     "metadata": {},
     "output_type": "display_data"
    }
   ],
   "source": [
    "for i in range(5):\n",
    "    plt.figure(figsize=(2,2))\n",
    "    plt.title(f\"=== {label_to_class[y_train[i]]} ===\")\n",
    "    plt.imshow(x_train[i])"
   ]
  },
  {
   "cell_type": "code",
   "execution_count": 11,
   "id": "7221f227-37dc-4d03-87a2-75e2370fa3c8",
   "metadata": {},
   "outputs": [
    {
     "data": {
      "text/plain": [
       "((54000, 28, 28), (6000, 28, 28), (54000,), (6000,))"
      ]
     },
     "execution_count": 11,
     "metadata": {},
     "output_type": "execute_result"
    }
   ],
   "source": [
    "from sklearn.model_selection import train_test_split\n",
    "\n",
    "x_train, x_val, y_train, y_val = train_test_split(x_train, y_train, test_size=0.1, shuffle=True, random_state=42)\n",
    "\n",
    "x_train.shape, x_val.shape, y_train.shape, y_val.shape"
   ]
  },
  {
   "cell_type": "code",
   "execution_count": 12,
   "id": "825fe5aa-bcf8-447a-9f13-186d51843a33",
   "metadata": {},
   "outputs": [
    {
     "data": {
      "text/plain": [
       "((54000, 784), (6000, 784), (10000, 784), (54000,), (6000,), (10000,))"
      ]
     },
     "execution_count": 12,
     "metadata": {},
     "output_type": "execute_result"
    }
   ],
   "source": [
    "x_train = x_train.reshape(x_train.shape[0], side**2).copy()\n",
    "x_val = x_val.reshape(x_val.shape[0], side**2).copy()\n",
    "x_test = x_test.reshape(x_test.shape[0], side**2).copy()\n",
    "\n",
    "x_train.shape, x_val.shape, x_test.shape, y_train.shape, y_val.shape, y_test.shape"
   ]
  },
  {
   "cell_type": "code",
   "execution_count": 13,
   "id": "145d2142-b2c3-433a-97ab-72c7ae197ef8",
   "metadata": {},
   "outputs": [
    {
     "data": {
      "text/plain": [
       "((54000, 10), (6000, 10), (10000, 10))"
      ]
     },
     "execution_count": 13,
     "metadata": {},
     "output_type": "execute_result"
    }
   ],
   "source": [
    "def make_onehot(labels, n_classes):\n",
    "    return np.array([[(i==j)*1 for i in range(n_classes)] for j in labels])\n",
    "\n",
    "y_train = make_onehot(y_train, n_classes)\n",
    "y_val = make_onehot(y_val, n_classes)\n",
    "y_test = make_onehot(y_test, n_classes)\n",
    "\n",
    "y_train.shape, y_val.shape, y_test.shape"
   ]
  },
  {
   "cell_type": "markdown",
   "id": "e3f7974d-7fdd-43c9-b57e-4c8ccaf775ec",
   "metadata": {},
   "source": [
    "## Modelling"
   ]
  },
  {
   "cell_type": "code",
   "execution_count": 14,
   "id": "974d9eee-003a-4e71-ae6d-add42f4ad065",
   "metadata": {},
   "outputs": [],
   "source": [
    "scores = {}"
   ]
  },
  {
   "cell_type": "markdown",
   "id": "ebb5cd7c-fbe6-4a73-9f27-e3a3c45fdf85",
   "metadata": {},
   "source": [
    "#### Deep Learning Model"
   ]
  },
  {
   "cell_type": "code",
   "execution_count": 15,
   "id": "ad098cc9-4036-4d7c-a434-dab726121d98",
   "metadata": {},
   "outputs": [],
   "source": [
    "import tensorflow.keras as keras\n",
    "from tensorflow.keras.models import Sequential\n",
    "from tensorflow.keras.layers import Dense, Dropout\n",
    "from tensorflow.keras.callbacks import Callback"
   ]
  },
  {
   "cell_type": "code",
   "execution_count": 16,
   "id": "4d6bc72f-a0aa-49bc-bd38-879266eba29d",
   "metadata": {
    "tags": []
   },
   "outputs": [],
   "source": [
    "class MyCallback(Callback):\n",
    "    def on_epoch_end(self, epoch, logs={}):\n",
    "        if logs['accuracy'] > 0.9:\n",
    "            print(\"Accuracy is greater than 0.9\")\n",
    "            self.model.stop_training = True"
   ]
  },
  {
   "cell_type": "code",
   "execution_count": 17,
   "id": "e939a65f-38ce-49fa-aa71-2f9f292ef007",
   "metadata": {
    "tags": []
   },
   "outputs": [],
   "source": [
    "dnn_model = Sequential([\n",
    "    Dense(256, activation='relu', input_shape=[784]),\n",
    "    Dropout(0.1),\n",
    "    Dense(128, activation='relu'),\n",
    "    Dropout(0.1),\n",
    "    Dense(64, activation='relu'),\n",
    "    Dropout(0.1),\n",
    "    Dense(32, activation='relu'),\n",
    "    Dropout(0.1),\n",
    "    Dense(16, activation='relu'),\n",
    "    Dropout(0.1),\n",
    "    Dense(10, activation='softmax')\n",
    "])"
   ]
  },
  {
   "cell_type": "code",
   "execution_count": 18,
   "id": "f9377ce6-d90a-4c65-804c-5339522f3928",
   "metadata": {},
   "outputs": [],
   "source": [
    "from tensorflow.keras.optimizers import Adam\n",
    "lr = 0.001\n",
    "epochs = 50\n",
    "batch_size = 128\n",
    "dnn_model.compile(optimizer=Adam(lr), loss='categorical_crossentropy', metrics=['accuracy'])"
   ]
  },
  {
   "cell_type": "code",
   "execution_count": 19,
   "id": "9f94bc32-9414-4fb5-a38a-55e4cf7df3be",
   "metadata": {},
   "outputs": [
    {
     "name": "stdout",
     "output_type": "stream",
     "text": [
      "Model: \"sequential\"\n",
      "_________________________________________________________________\n",
      " Layer (type)                Output Shape              Param #   \n",
      "=================================================================\n",
      " dense (Dense)               (None, 256)               200960    \n",
      "                                                                 \n",
      " dropout (Dropout)           (None, 256)               0         \n",
      "                                                                 \n",
      " dense_1 (Dense)             (None, 128)               32896     \n",
      "                                                                 \n",
      " dropout_1 (Dropout)         (None, 128)               0         \n",
      "                                                                 \n",
      " dense_2 (Dense)             (None, 64)                8256      \n",
      "                                                                 \n",
      " dropout_2 (Dropout)         (None, 64)                0         \n",
      "                                                                 \n",
      " dense_3 (Dense)             (None, 32)                2080      \n",
      "                                                                 \n",
      " dropout_3 (Dropout)         (None, 32)                0         \n",
      "                                                                 \n",
      " dense_4 (Dense)             (None, 16)                528       \n",
      "                                                                 \n",
      " dropout_4 (Dropout)         (None, 16)                0         \n",
      "                                                                 \n",
      " dense_5 (Dense)             (None, 10)                170       \n",
      "                                                                 \n",
      "=================================================================\n",
      "Total params: 244,890\n",
      "Trainable params: 244,890\n",
      "Non-trainable params: 0\n",
      "_________________________________________________________________\n"
     ]
    }
   ],
   "source": [
    "dnn_model.summary()"
   ]
  },
  {
   "cell_type": "code",
   "execution_count": 20,
   "id": "6f3eb1d2-ac7d-49cc-80c9-82193d0ce4bd",
   "metadata": {},
   "outputs": [
    {
     "name": "stdout",
     "output_type": "stream",
     "text": [
      "Epoch 1/50\n",
      "422/422 [==============================] - 9s 14ms/step - loss: 2.7195 - accuracy: 0.2636 - val_loss: 1.2816 - val_accuracy: 0.5783\n",
      "Epoch 2/50\n",
      "422/422 [==============================] - 4s 9ms/step - loss: 1.2823 - accuracy: 0.5545 - val_loss: 0.9988 - val_accuracy: 0.6350\n",
      "Epoch 3/50\n",
      "422/422 [==============================] - 3s 6ms/step - loss: 1.0476 - accuracy: 0.6050 - val_loss: 0.8997 - val_accuracy: 0.6463\n",
      "Epoch 4/50\n",
      "422/422 [==============================] - 4s 9ms/step - loss: 0.9542 - accuracy: 0.6290 - val_loss: 0.7594 - val_accuracy: 0.7448\n",
      "Epoch 5/50\n",
      "422/422 [==============================] - 5s 12ms/step - loss: 0.7690 - accuracy: 0.7181 - val_loss: 0.5686 - val_accuracy: 0.8093\n",
      "Epoch 6/50\n",
      "422/422 [==============================] - 5s 12ms/step - loss: 0.6517 - accuracy: 0.7652 - val_loss: 0.4876 - val_accuracy: 0.8250\n",
      "Epoch 7/50\n",
      "422/422 [==============================] - 5s 11ms/step - loss: 0.5897 - accuracy: 0.7914 - val_loss: 0.4459 - val_accuracy: 0.8408\n",
      "Epoch 8/50\n",
      "422/422 [==============================] - 5s 12ms/step - loss: 0.5567 - accuracy: 0.8000 - val_loss: 0.4440 - val_accuracy: 0.8472\n",
      "Epoch 9/50\n",
      "422/422 [==============================] - 5s 12ms/step - loss: 0.5274 - accuracy: 0.8097 - val_loss: 0.4234 - val_accuracy: 0.8537\n",
      "Epoch 10/50\n",
      "422/422 [==============================] - 4s 10ms/step - loss: 0.5061 - accuracy: 0.8184 - val_loss: 0.4314 - val_accuracy: 0.8540\n",
      "Epoch 11/50\n",
      "422/422 [==============================] - 4s 10ms/step - loss: 0.4924 - accuracy: 0.8252 - val_loss: 0.4152 - val_accuracy: 0.8597\n",
      "Epoch 12/50\n",
      "422/422 [==============================] - 4s 9ms/step - loss: 0.4726 - accuracy: 0.8316 - val_loss: 0.4196 - val_accuracy: 0.8453\n",
      "Epoch 13/50\n",
      "422/422 [==============================] - 5s 12ms/step - loss: 0.4607 - accuracy: 0.8391 - val_loss: 0.4257 - val_accuracy: 0.8403\n",
      "Epoch 14/50\n",
      "422/422 [==============================] - 5s 12ms/step - loss: 0.4501 - accuracy: 0.8418 - val_loss: 0.3968 - val_accuracy: 0.8693\n",
      "Epoch 15/50\n",
      "422/422 [==============================] - 4s 9ms/step - loss: 0.4405 - accuracy: 0.8439 - val_loss: 0.3743 - val_accuracy: 0.8670\n",
      "Epoch 16/50\n",
      "422/422 [==============================] - 5s 11ms/step - loss: 0.4285 - accuracy: 0.8501 - val_loss: 0.3961 - val_accuracy: 0.8693\n",
      "Epoch 17/50\n",
      "422/422 [==============================] - 5s 12ms/step - loss: 0.4281 - accuracy: 0.8474 - val_loss: 0.3747 - val_accuracy: 0.8752\n",
      "Epoch 18/50\n",
      "422/422 [==============================] - 5s 12ms/step - loss: 0.4166 - accuracy: 0.8544 - val_loss: 0.3922 - val_accuracy: 0.8723\n",
      "Epoch 19/50\n",
      "422/422 [==============================] - 5s 12ms/step - loss: 0.4164 - accuracy: 0.8517 - val_loss: 0.3762 - val_accuracy: 0.8658\n",
      "Epoch 20/50\n",
      "422/422 [==============================] - 5s 12ms/step - loss: 0.4052 - accuracy: 0.8577 - val_loss: 0.3846 - val_accuracy: 0.8692\n",
      "Epoch 21/50\n",
      "422/422 [==============================] - 4s 10ms/step - loss: 0.4045 - accuracy: 0.8582 - val_loss: 0.3765 - val_accuracy: 0.8690\n",
      "Epoch 22/50\n",
      "422/422 [==============================] - 5s 12ms/step - loss: 0.3996 - accuracy: 0.8594 - val_loss: 0.3666 - val_accuracy: 0.8732\n",
      "Epoch 23/50\n",
      "422/422 [==============================] - 5s 12ms/step - loss: 0.3839 - accuracy: 0.8624 - val_loss: 0.3619 - val_accuracy: 0.8677\n",
      "Epoch 24/50\n",
      "422/422 [==============================] - 5s 11ms/step - loss: 0.3822 - accuracy: 0.8641 - val_loss: 0.3633 - val_accuracy: 0.8743\n",
      "Epoch 25/50\n",
      "422/422 [==============================] - 5s 11ms/step - loss: 0.3773 - accuracy: 0.8664 - val_loss: 0.3683 - val_accuracy: 0.8817\n",
      "Epoch 26/50\n",
      "422/422 [==============================] - 5s 12ms/step - loss: 0.3857 - accuracy: 0.8649 - val_loss: 0.3821 - val_accuracy: 0.8712\n",
      "Epoch 27/50\n",
      "422/422 [==============================] - 5s 12ms/step - loss: 0.3705 - accuracy: 0.8691 - val_loss: 0.3486 - val_accuracy: 0.8828\n",
      "Epoch 28/50\n",
      "422/422 [==============================] - 5s 11ms/step - loss: 0.3699 - accuracy: 0.8700 - val_loss: 0.3645 - val_accuracy: 0.8793\n",
      "Epoch 29/50\n",
      "422/422 [==============================] - 5s 12ms/step - loss: 0.3661 - accuracy: 0.8692 - val_loss: 0.3641 - val_accuracy: 0.8787\n",
      "Epoch 30/50\n",
      "422/422 [==============================] - 5s 12ms/step - loss: 0.3644 - accuracy: 0.8706 - val_loss: 0.3652 - val_accuracy: 0.8760\n",
      "Epoch 31/50\n",
      "422/422 [==============================] - 5s 11ms/step - loss: 0.3560 - accuracy: 0.8731 - val_loss: 0.3541 - val_accuracy: 0.8748\n",
      "Epoch 32/50\n",
      "422/422 [==============================] - 5s 12ms/step - loss: 0.3506 - accuracy: 0.8750 - val_loss: 0.3607 - val_accuracy: 0.8780\n",
      "Epoch 33/50\n",
      "422/422 [==============================] - 5s 11ms/step - loss: 0.3494 - accuracy: 0.8740 - val_loss: 0.3493 - val_accuracy: 0.8853\n",
      "Epoch 34/50\n",
      "422/422 [==============================] - 5s 11ms/step - loss: 0.3544 - accuracy: 0.8727 - val_loss: 0.3380 - val_accuracy: 0.8823\n",
      "Epoch 35/50\n",
      "422/422 [==============================] - 5s 12ms/step - loss: 0.3509 - accuracy: 0.8759 - val_loss: 0.3670 - val_accuracy: 0.8685\n",
      "Epoch 36/50\n",
      "422/422 [==============================] - 5s 11ms/step - loss: 0.3432 - accuracy: 0.8753 - val_loss: 0.3469 - val_accuracy: 0.8800\n",
      "Epoch 37/50\n",
      "422/422 [==============================] - 5s 11ms/step - loss: 0.3354 - accuracy: 0.8793 - val_loss: 0.3372 - val_accuracy: 0.8862\n",
      "Epoch 38/50\n",
      "422/422 [==============================] - 5s 11ms/step - loss: 0.3348 - accuracy: 0.8805 - val_loss: 0.3528 - val_accuracy: 0.8832\n",
      "Epoch 39/50\n",
      "422/422 [==============================] - 5s 12ms/step - loss: 0.3355 - accuracy: 0.8800 - val_loss: 0.3576 - val_accuracy: 0.8815\n",
      "Epoch 40/50\n",
      "422/422 [==============================] - 5s 11ms/step - loss: 0.3336 - accuracy: 0.8800 - val_loss: 0.3703 - val_accuracy: 0.8815\n",
      "Epoch 41/50\n",
      "422/422 [==============================] - 5s 12ms/step - loss: 0.3340 - accuracy: 0.8799 - val_loss: 0.3641 - val_accuracy: 0.8788\n",
      "Epoch 42/50\n",
      "422/422 [==============================] - 5s 12ms/step - loss: 0.3305 - accuracy: 0.8804 - val_loss: 0.3629 - val_accuracy: 0.8788\n",
      "Epoch 43/50\n",
      "422/422 [==============================] - 5s 12ms/step - loss: 0.3314 - accuracy: 0.8779 - val_loss: 0.3476 - val_accuracy: 0.8787\n",
      "Epoch 44/50\n",
      "422/422 [==============================] - 5s 12ms/step - loss: 0.3278 - accuracy: 0.8817 - val_loss: 0.3680 - val_accuracy: 0.8700\n",
      "Epoch 45/50\n",
      "422/422 [==============================] - 5s 12ms/step - loss: 0.3355 - accuracy: 0.8801 - val_loss: 0.3497 - val_accuracy: 0.8788\n",
      "Epoch 46/50\n",
      "422/422 [==============================] - 5s 11ms/step - loss: 0.3274 - accuracy: 0.8832 - val_loss: 0.3467 - val_accuracy: 0.8842\n",
      "Epoch 47/50\n",
      "422/422 [==============================] - 5s 11ms/step - loss: 0.3242 - accuracy: 0.8849 - val_loss: 0.3583 - val_accuracy: 0.8910\n",
      "Epoch 48/50\n",
      "422/422 [==============================] - 5s 12ms/step - loss: 0.3265 - accuracy: 0.8826 - val_loss: 0.3433 - val_accuracy: 0.8797\n",
      "Epoch 49/50\n",
      "422/422 [==============================] - 5s 12ms/step - loss: 0.3199 - accuracy: 0.8841 - val_loss: 0.3626 - val_accuracy: 0.8798\n",
      "Epoch 50/50\n",
      "422/422 [==============================] - 5s 12ms/step - loss: 0.3243 - accuracy: 0.8832 - val_loss: 0.3737 - val_accuracy: 0.8817\n"
     ]
    },
    {
     "data": {
      "text/plain": [
       "<keras.callbacks.History at 0x21684ed2c10>"
      ]
     },
     "execution_count": 20,
     "metadata": {},
     "output_type": "execute_result"
    }
   ],
   "source": [
    "dnn_model.fit(\n",
    "    x_train, \n",
    "    y_train, \n",
    "    validation_data = (x_val, y_val), \n",
    "    epochs = epochs,\n",
    "    batch_size=batch_size,\n",
    "    callbacks=[MyCallback()],\n",
    "    shuffle = True)"
   ]
  },
  {
   "cell_type": "code",
   "execution_count": 21,
   "id": "26525b42-1098-435c-b073-005601ee1ed6",
   "metadata": {},
   "outputs": [
    {
     "data": {
      "text/plain": [
       "[<matplotlib.lines.Line2D at 0x216dc713d30>]"
      ]
     },
     "execution_count": 21,
     "metadata": {},
     "output_type": "execute_result"
    },
    {
     "data": {
      "image/png": "[encoded data removed]",
      "text/plain": [
       "<Figure size 700x300 with 1 Axes>"
      ]
     },
     "metadata": {},
     "output_type": "display_data"
    },
    {
     "data": {
      "image/png": "[encoded data removed]",
      "text/plain": [
       "<Figure size 700x300 with 1 Axes>"
      ]
     },
     "metadata": {},
     "output_type": "display_data"
    }
   ],
   "source": [
    "dnn_history = dnn_model.history.history\n",
    "\n",
    "plt.figure(figsize=(7,3))\n",
    "plt.title(f'Accuracy vs Epochs')\n",
    "plt.xlabel(f'Epochs')\n",
    "plt.ylabel(f'Accuracy')\n",
    "plt.plot(dnn_model.history.history['accuracy'])\n",
    "plt.plot(dnn_model.history.history['val_accuracy'])\n",
    "\n",
    "plt.figure(figsize=(7,3))\n",
    "plt.title(f'Loss vs Epochs')\n",
    "plt.xlabel(f'Epochs')\n",
    "plt.ylabel(f'Loss')\n",
    "plt.plot(dnn_model.history.history['loss'])\n",
    "plt.plot(dnn_model.history.history['val_loss'])"
   ]
  },
  {
   "cell_type": "code",
   "execution_count": 22,
   "id": "f66dbb50-b762-4bd6-8bc4-5190c9c65a66",
   "metadata": {},
   "outputs": [
    {
     "name": "stdout",
     "output_type": "stream",
     "text": [
      "313/313 [==============================] - 1s 4ms/step - loss: 0.3853 - accuracy: 0.8747\n"
     ]
    }
   ],
   "source": [
    "scores['DNN'] = dnn_model.evaluate(x_test, y_test)"
   ]
  },
  {
   "cell_type": "markdown",
   "id": "7bd53a5a-e184-4ae9-b6cf-674f355a4f21",
   "metadata": {},
   "source": [
    "#### Convolutional Network"
   ]
  },
  {
   "cell_type": "code",
   "execution_count": 23,
   "id": "93ba3a71-7c39-4557-9ae8-0ec861ed89a0",
   "metadata": {},
   "outputs": [],
   "source": [
    "import tensorflow.keras as keras\n",
    "from tensorflow.keras.models import Sequential\n",
    "from tensorflow.keras.layers import Conv2D, MaxPool2D, Dense, Dropout, Flatten"
   ]
  },
  {
   "cell_type": "code",
   "execution_count": 24,
   "id": "4503f547-5700-4bbb-bcaf-d636f71a463f",
   "metadata": {
    "tags": []
   },
   "outputs": [],
   "source": [
    "class MyCallback(Callback):\n",
    "    def on_epoch_end(self, epoch, logs={}):\n",
    "        if logs['accuracy'] > 0.98:\n",
    "            print(\"Accuracy is greater than 0.9\")\n",
    "            self.model.stop_training = True"
   ]
  },
  {
   "cell_type": "code",
   "execution_count": 25,
   "id": "aba9216a-f0ab-45cf-a940-b0b84b7fe42a",
   "metadata": {
    "tags": []
   },
   "outputs": [],
   "source": [
    "cnn_model = Sequential([\n",
    "    Conv2D(64, 3, activation='relu', input_shape=(28,28,1)),\n",
    "    MaxPool2D((2, 2)),\n",
    "    Conv2D(32, 3, activation='relu'),\n",
    "    MaxPool2D((2, 2)),\n",
    "    Conv2D(16, 3, activation='relu'),\n",
    "    MaxPool2D((2, 2)),\n",
    "    Flatten(),\n",
    "    Dense(32, activation='relu'),\n",
    "    Dropout(0.1),\n",
    "    Dense(16, activation='relu'),\n",
    "    Dropout(0.1),\n",
    "    Dense(10, activation='softmax')\n",
    "])"
   ]
  },
  {
   "cell_type": "code",
   "execution_count": 26,
   "id": "79a5adef-bafb-43d5-83b2-e158c22cf723",
   "metadata": {},
   "outputs": [],
   "source": [
    "from tensorflow.keras.optimizers import Adam\n",
    "lr = 0.001\n",
    "epochs = 50\n",
    "batch_size = 128\n",
    "cnn_model.compile(optimizer=Adam(lr), loss='categorical_crossentropy', metrics=['accuracy'])"
   ]
  },
  {
   "cell_type": "code",
   "execution_count": 27,
   "id": "26f8566b-bd49-42e4-8aff-1a2985519ee5",
   "metadata": {},
   "outputs": [
    {
     "name": "stdout",
     "output_type": "stream",
     "text": [
      "Model: \"sequential_1\"\n",
      "_________________________________________________________________\n",
      " Layer (type)                Output Shape              Param #   \n",
      "=================================================================\n",
      " conv2d (Conv2D)             (None, 26, 26, 64)        640       \n",
      "                                                                 \n",
      " max_pooling2d (MaxPooling2D  (None, 13, 13, 64)       0         \n",
      " )                                                               \n",
      "                                                                 \n",
      " conv2d_1 (Conv2D)           (None, 11, 11, 32)        18464     \n",
      "                                                                 \n",
      " max_pooling2d_1 (MaxPooling  (None, 5, 5, 32)         0         \n",
      " 2D)                                                             \n",
      "                                                                 \n",
      " conv2d_2 (Conv2D)           (None, 3, 3, 16)          4624      \n",
      "                                                                 \n",
      " max_pooling2d_2 (MaxPooling  (None, 1, 1, 16)         0         \n",
      " 2D)                                                             \n",
      "                                                                 \n",
      " flatten (Flatten)           (None, 16)                0         \n",
      "                                                                 \n",
      " dense_6 (Dense)             (None, 32)                544       \n",
      "                                                                 \n",
      " dropout_5 (Dropout)         (None, 32)                0         \n",
      "                                                                 \n",
      " dense_7 (Dense)             (None, 16)                528       \n",
      "                                                                 \n",
      " dropout_6 (Dropout)         (None, 16)                0         \n",
      "                                                                 \n",
      " dense_8 (Dense)             (None, 10)                170       \n",
      "                                                                 \n",
      "=================================================================\n",
      "Total params: 24,970\n",
      "Trainable params: 24,970\n",
      "Non-trainable params: 0\n",
      "_________________________________________________________________\n"
     ]
    }
   ],
   "source": [
    "cnn_model.summary()"
   ]
  },
  {
   "cell_type": "code",
   "execution_count": 28,
   "id": "b6af68c4-a26f-461e-ad56-ab1a9ead53f6",
   "metadata": {},
   "outputs": [
    {
     "data": {
      "text/plain": [
       "((54000, 28, 28),\n",
       " (6000, 28, 28),\n",
       " (10000, 28, 28),\n",
       " (54000, 10),\n",
       " (6000, 10),\n",
       " (10000, 10))"
      ]
     },
     "execution_count": 28,
     "metadata": {},
     "output_type": "execute_result"
    }
   ],
   "source": [
    "x_train = x_train.reshape(x_train.shape[0], 28, 28).copy()\n",
    "x_val = x_val.reshape(x_val.shape[0], 28, 28).copy()\n",
    "x_test = x_test.reshape(x_test.shape[0], 28, 28).copy()\n",
    "\n",
    "x_train.shape, x_val.shape, x_test.shape, y_train.shape, y_val.shape, y_test.shape"
   ]
  },
  {
   "cell_type": "code",
   "execution_count": 29,
   "id": "2aba8e42-4404-49ee-ae2c-c974a6d83b23",
   "metadata": {},
   "outputs": [
    {
     "name": "stdout",
     "output_type": "stream",
     "text": [
      "Epoch 1/50\n",
      "422/422 [==============================] - 42s 92ms/step - loss: 1.1576 - accuracy: 0.5950 - val_loss: 0.6201 - val_accuracy: 0.7642\n",
      "Epoch 2/50\n",
      "422/422 [==============================] - 36s 85ms/step - loss: 0.6834 - accuracy: 0.7524 - val_loss: 0.5461 - val_accuracy: 0.7967\n",
      "Epoch 3/50\n",
      "422/422 [==============================] - 35s 82ms/step - loss: 0.5764 - accuracy: 0.7925 - val_loss: 0.4890 - val_accuracy: 0.8142\n",
      "Epoch 4/50\n",
      "422/422 [==============================] - 35s 83ms/step - loss: 0.5304 - accuracy: 0.8104 - val_loss: 0.4567 - val_accuracy: 0.8293\n",
      "Epoch 5/50\n",
      "422/422 [==============================] - 44s 105ms/step - loss: 0.4929 - accuracy: 0.8215 - val_loss: 0.4492 - val_accuracy: 0.8323\n",
      "Epoch 6/50\n",
      "422/422 [==============================] - 44s 103ms/step - loss: 0.4728 - accuracy: 0.8281 - val_loss: 0.4271 - val_accuracy: 0.8413\n",
      "Epoch 7/50\n",
      "422/422 [==============================] - 43s 101ms/step - loss: 0.4455 - accuracy: 0.8384 - val_loss: 0.4115 - val_accuracy: 0.8417\n",
      "Epoch 8/50\n",
      "422/422 [==============================] - 44s 104ms/step - loss: 0.4306 - accuracy: 0.8453 - val_loss: 0.4150 - val_accuracy: 0.8488\n",
      "Epoch 9/50\n",
      "422/422 [==============================] - 54s 128ms/step - loss: 0.4162 - accuracy: 0.8509 - val_loss: 0.3945 - val_accuracy: 0.8570\n",
      "Epoch 10/50\n",
      "422/422 [==============================] - 50s 117ms/step - loss: 0.4007 - accuracy: 0.8581 - val_loss: 0.3771 - val_accuracy: 0.8555\n",
      "Epoch 11/50\n",
      "422/422 [==============================] - 57s 136ms/step - loss: 0.3889 - accuracy: 0.8592 - val_loss: 0.3713 - val_accuracy: 0.8627\n",
      "Epoch 12/50\n",
      "422/422 [==============================] - 52s 123ms/step - loss: 0.3795 - accuracy: 0.8633 - val_loss: 0.3637 - val_accuracy: 0.8613\n",
      "Epoch 13/50\n",
      "422/422 [==============================] - 50s 117ms/step - loss: 0.3692 - accuracy: 0.8660 - val_loss: 0.3696 - val_accuracy: 0.8580\n",
      "Epoch 14/50\n",
      "422/422 [==============================] - 50s 119ms/step - loss: 0.3642 - accuracy: 0.8700 - val_loss: 0.3528 - val_accuracy: 0.8682\n",
      "Epoch 15/50\n",
      "422/422 [==============================] - 67s 158ms/step - loss: 0.3529 - accuracy: 0.8741 - val_loss: 0.3711 - val_accuracy: 0.8600\n",
      "Epoch 16/50\n",
      "422/422 [==============================] - 72s 171ms/step - loss: 0.3447 - accuracy: 0.8755 - val_loss: 0.3529 - val_accuracy: 0.8653\n",
      "Epoch 17/50\n",
      "422/422 [==============================] - 62s 148ms/step - loss: 0.3417 - accuracy: 0.8777 - val_loss: 0.3565 - val_accuracy: 0.8615\n",
      "Epoch 18/50\n",
      "422/422 [==============================] - 51s 121ms/step - loss: 0.3336 - accuracy: 0.8807 - val_loss: 0.3637 - val_accuracy: 0.8610\n",
      "Epoch 19/50\n",
      "422/422 [==============================] - 54s 127ms/step - loss: 0.3281 - accuracy: 0.8816 - val_loss: 0.3615 - val_accuracy: 0.8670\n",
      "Epoch 20/50\n",
      "422/422 [==============================] - 50s 120ms/step - loss: 0.3245 - accuracy: 0.8831 - val_loss: 0.3486 - val_accuracy: 0.8692\n",
      "Epoch 21/50\n",
      "422/422 [==============================] - 51s 120ms/step - loss: 0.3183 - accuracy: 0.8863 - val_loss: 0.3535 - val_accuracy: 0.8692\n",
      "Epoch 22/50\n",
      "422/422 [==============================] - 51s 120ms/step - loss: 0.3086 - accuracy: 0.8886 - val_loss: 0.3609 - val_accuracy: 0.8697\n",
      "Epoch 23/50\n",
      "422/422 [==============================] - 53s 126ms/step - loss: 0.3081 - accuracy: 0.8891 - val_loss: 0.3601 - val_accuracy: 0.8687\n",
      "Epoch 24/50\n",
      "422/422 [==============================] - 49s 116ms/step - loss: 0.3052 - accuracy: 0.8901 - val_loss: 0.3502 - val_accuracy: 0.8757\n",
      "Epoch 25/50\n",
      "422/422 [==============================] - 45s 108ms/step - loss: 0.3007 - accuracy: 0.8919 - val_loss: 0.3700 - val_accuracy: 0.8642\n",
      "Epoch 26/50\n",
      "422/422 [==============================] - 46s 108ms/step - loss: 0.2938 - accuracy: 0.8950 - val_loss: 0.3582 - val_accuracy: 0.8752\n",
      "Epoch 27/50\n",
      "422/422 [==============================] - 45s 106ms/step - loss: 0.2912 - accuracy: 0.8945 - val_loss: 0.3781 - val_accuracy: 0.8680\n",
      "Epoch 28/50\n",
      "422/422 [==============================] - 44s 104ms/step - loss: 0.2874 - accuracy: 0.8958 - val_loss: 0.3562 - val_accuracy: 0.8757\n",
      "Epoch 29/50\n",
      "422/422 [==============================] - 66s 156ms/step - loss: 0.2813 - accuracy: 0.8979 - val_loss: 0.3725 - val_accuracy: 0.8713\n",
      "Epoch 30/50\n",
      "422/422 [==============================] - 61s 144ms/step - loss: 0.2796 - accuracy: 0.8994 - val_loss: 0.3570 - val_accuracy: 0.8762\n",
      "Epoch 31/50\n",
      "422/422 [==============================] - 50s 119ms/step - loss: 0.2771 - accuracy: 0.9011 - val_loss: 0.3543 - val_accuracy: 0.8757\n",
      "Epoch 32/50\n",
      "422/422 [==============================] - 50s 119ms/step - loss: 0.2737 - accuracy: 0.9023 - val_loss: 0.3609 - val_accuracy: 0.8708\n",
      "Epoch 33/50\n",
      "422/422 [==============================] - 49s 117ms/step - loss: 0.2668 - accuracy: 0.9038 - val_loss: 0.3559 - val_accuracy: 0.8772\n",
      "Epoch 34/50\n",
      "422/422 [==============================] - 57s 135ms/step - loss: 0.2676 - accuracy: 0.9035 - val_loss: 0.3671 - val_accuracy: 0.8733\n",
      "Epoch 35/50\n",
      "422/422 [==============================] - 52s 124ms/step - loss: 0.2601 - accuracy: 0.9067 - val_loss: 0.3687 - val_accuracy: 0.8752\n",
      "Epoch 36/50\n",
      "422/422 [==============================] - 50s 120ms/step - loss: 0.2600 - accuracy: 0.9065 - val_loss: 0.3561 - val_accuracy: 0.8725\n",
      "Epoch 37/50\n",
      "422/422 [==============================] - 61s 144ms/step - loss: 0.2563 - accuracy: 0.9076 - val_loss: 0.3654 - val_accuracy: 0.8722\n",
      "Epoch 38/50\n",
      "422/422 [==============================] - 67s 159ms/step - loss: 0.2505 - accuracy: 0.9104 - val_loss: 0.3794 - val_accuracy: 0.8713\n",
      "Epoch 39/50\n",
      "422/422 [==============================] - 58s 137ms/step - loss: 0.2528 - accuracy: 0.9097 - val_loss: 0.3934 - val_accuracy: 0.8688\n",
      "Epoch 40/50\n",
      "422/422 [==============================] - 31s 74ms/step - loss: 0.2464 - accuracy: 0.9112 - val_loss: 0.3731 - val_accuracy: 0.8772\n",
      "Epoch 41/50\n",
      "422/422 [==============================] - 25s 58ms/step - loss: 0.2466 - accuracy: 0.9119 - val_loss: 0.3768 - val_accuracy: 0.8758\n",
      "Epoch 42/50\n",
      "422/422 [==============================] - 23s 56ms/step - loss: 0.2446 - accuracy: 0.9124 - val_loss: 0.3807 - val_accuracy: 0.8758\n",
      "Epoch 43/50\n",
      "422/422 [==============================] - 23s 54ms/step - loss: 0.2389 - accuracy: 0.9153 - val_loss: 0.3984 - val_accuracy: 0.8728\n",
      "Epoch 44/50\n",
      "422/422 [==============================] - 22s 53ms/step - loss: 0.2433 - accuracy: 0.9129 - val_loss: 0.3777 - val_accuracy: 0.8737\n",
      "Epoch 45/50\n",
      "422/422 [==============================] - 23s 54ms/step - loss: 0.2335 - accuracy: 0.9179 - val_loss: 0.3972 - val_accuracy: 0.8703\n",
      "Epoch 46/50\n",
      "422/422 [==============================] - 24s 58ms/step - loss: 0.2338 - accuracy: 0.9174 - val_loss: 0.3837 - val_accuracy: 0.8803\n",
      "Epoch 47/50\n",
      "422/422 [==============================] - 23s 54ms/step - loss: 0.2355 - accuracy: 0.9153 - val_loss: 0.4165 - val_accuracy: 0.8700\n",
      "Epoch 48/50\n",
      "422/422 [==============================] - 23s 55ms/step - loss: 0.2325 - accuracy: 0.9162 - val_loss: 0.3810 - val_accuracy: 0.8717\n",
      "Epoch 49/50\n",
      "422/422 [==============================] - 23s 54ms/step - loss: 0.2300 - accuracy: 0.9181 - val_loss: 0.4087 - val_accuracy: 0.8765\n",
      "Epoch 50/50\n",
      "422/422 [==============================] - 22s 52ms/step - loss: 0.2270 - accuracy: 0.9194 - val_loss: 0.4000 - val_accuracy: 0.8700\n"
     ]
    },
    {
     "data": {
      "text/plain": [
       "<keras.callbacks.History at 0x216dc7cb3d0>"
      ]
     },
     "execution_count": 29,
     "metadata": {},
     "output_type": "execute_result"
    }
   ],
   "source": [
    "cnn_model.fit(\n",
    "    x_train, \n",
    "    y_train, \n",
    "    validation_data = (x_val, y_val), \n",
    "    epochs = epochs,\n",
    "    batch_size=batch_size,\n",
    "    shuffle = True,\n",
    "    callbacks=MyCallback())"
   ]
  },
  {
   "cell_type": "code",
   "execution_count": 30,
   "id": "14cff020-50d8-4c14-b72e-3b749babb37e",
   "metadata": {},
   "outputs": [
    {
     "data": {
      "text/plain": [
       "[<matplotlib.lines.Line2D at 0x216d70a1250>]"
      ]
     },
     "execution_count": 30,
     "metadata": {},
     "output_type": "execute_result"
    },
    {
     "data": {
      "image/png": "[encoded data removed]",
      "text/plain": [
       "<Figure size 700x300 with 1 Axes>"
      ]
     },
     "metadata": {},
     "output_type": "display_data"
    },
    {
     "data": {
      "image/png": "[encoded data removed]",
      "text/plain": [
       "<Figure size 700x300 with 1 Axes>"
      ]
     },
     "metadata": {},
     "output_type": "display_data"
    }
   ],
   "source": [
    "cnn_history = cnn_model.history.history\n",
    "\n",
    "plt.figure(figsize=(7,3))\n",
    "plt.title(f'Accuracy vs Epochs')\n",
    "plt.xlabel(f'Epochs')\n",
    "plt.ylabel(f'Accuracy')\n",
    "plt.plot(cnn_model.history.history['accuracy'])\n",
    "plt.plot(cnn_model.history.history['val_accuracy'])\n",
    "\n",
    "plt.figure(figsize=(7,3))\n",
    "plt.title(f'Loss vs Epochs')\n",
    "plt.xlabel(f'Epochs')\n",
    "plt.ylabel(f'Loss')\n",
    "plt.plot(cnn_model.history.history['loss'])\n",
    "plt.plot(cnn_model.history.history['val_loss'])"
   ]
  },
  {
   "cell_type": "code",
   "execution_count": 31,
   "id": "783cea68-2c3b-4b7e-8263-589e375d8f4d",
   "metadata": {},
   "outputs": [
    {
     "name": "stdout",
     "output_type": "stream",
     "text": [
      "313/313 [==============================] - 1s 5ms/step - loss: 0.4210 - accuracy: 0.8774\n"
     ]
    }
   ],
   "source": [
    "scores['CNN'] = cnn_model.evaluate(x_test, y_test)"
   ]
  },
  {
   "cell_type": "code",
   "execution_count": 41,
   "id": "ca0a1084-47cd-4484-b8e2-d1dee0352dde",
   "metadata": {},
   "outputs": [
    {
     "data": {
      "text/html": [
       "<div>\n",
       "<style scoped>\n",
       "    .dataframe tbody tr th:only-of-type {\n",
       "        vertical-align: middle;\n",
       "    }\n",
       "\n",
       "    .dataframe tbody tr th {\n",
       "        vertical-align: top;\n",
       "    }\n",
       "\n",
       "    .dataframe thead th {\n",
       "        text-align: right;\n",
       "    }\n",
       "</style>\n",
       "<table border=\"1\" class=\"dataframe\">\n",
       "  <thead>\n",
       "    <tr style=\"text-align: right;\">\n",
       "      <th></th>\n",
       "      <th>loss</th>\n",
       "      <th>accuracy</th>\n",
       "    </tr>\n",
       "  </thead>\n",
       "  <tbody>\n",
       "    <tr>\n",
       "      <th>DNN</th>\n",
       "      <td>0.385253</td>\n",
       "      <td>0.8747</td>\n",
       "    </tr>\n",
       "    <tr>\n",
       "      <th>CNN</th>\n",
       "      <td>0.421022</td>\n",
       "      <td>0.8774</td>\n",
       "    </tr>\n",
       "  </tbody>\n",
       "</table>\n",
       "</div>"
      ],
      "text/plain": [
       "         loss  accuracy\n",
       "DNN  0.385253    0.8747\n",
       "CNN  0.421022    0.8774"
      ]
     },
     "execution_count": 41,
     "metadata": {},
     "output_type": "execute_result"
    }
   ],
   "source": [
    "# scores = pd.DataFrame(scores[['DNN', 'CNN']]).T\n",
    "scores.columns = ['loss', 'accuracy']\n",
    "scores"
   ]
  },
  {
   "cell_type": "code",
   "execution_count": null,
   "id": "172146e0-1fc9-49e9-a3d2-751b0d8a0526",
   "metadata": {},
   "outputs": [],
   "source": []
  }
 ],
 "metadata": {
  "kernelspec": {
   "display_name": "Python 3 (ipykernel)",
   "language": "python",
   "name": "python3"
  },
  "language_info": {
   "codemirror_mode": {
    "name": "ipython",
    "version": 3
   },
   "file_extension": ".py",
   "mimetype": "text/x-python",
   "name": "python",
   "nbconvert_exporter": "python",
   "pygments_lexer": "ipython3",
   "version": "3.9.13"
  }
 },
 "nbformat": 4,
 "nbformat_minor": 5
}
